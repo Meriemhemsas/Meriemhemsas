{
 "cells": [
  {
   "cell_type": "code",
   "execution_count": null,
   "metadata": {},
   "outputs": [],
   "source": []
  },
  {
   "cell_type": "code",
   "execution_count": 6,
   "metadata": {
    "execution": {
     "iopub.execute_input": "2023-09-07T12:22:41.557192Z",
     "iopub.status.busy": "2023-09-07T12:22:41.556773Z",
     "iopub.status.idle": "2023-09-07T12:22:41.564040Z",
     "shell.execute_reply": "2023-09-07T12:22:41.562643Z",
     "shell.execute_reply.started": "2023-09-07T12:22:41.557146Z"
    }
   },
   "outputs": [],
   "source": [
    "import pandas as pd\n",
    "import numpy as np\n",
    "import matplotlib.pyplot as plt\n",
    "import seaborn as sns\n",
    "from sklearn.model_selection import train_test_split\n",
    "from sklearn.linear_model import LogisticRegression\n",
    "from sklearn.metrics import accuracy_score, confusion_matrix"
   ]
  },
  {
   "cell_type": "markdown",
   "metadata": {},
   "source": [
    "# Read then process the data\n",
    "# Preprocess the data"
   ]
  },
  {
   "cell_type": "code",
   "execution_count": 7,
   "metadata": {
    "execution": {
     "iopub.execute_input": "2023-09-07T12:22:41.566790Z",
     "iopub.status.busy": "2023-09-07T12:22:41.566350Z",
     "iopub.status.idle": "2023-09-07T12:22:41.609526Z",
     "shell.execute_reply": "2023-09-07T12:22:41.608423Z",
     "shell.execute_reply.started": "2023-09-07T12:22:41.566753Z"
    }
   },
   "outputs": [],
   "source": [
    "data = pd.read_csv('../input/diabetes-dataset/diabetes.csv')\n",
    "\n",
    "data = data.dropna()\n",
    "data['Outcome'] = data['Outcome'].astype('category')"
   ]
  },
  {
   "cell_type": "markdown",
   "metadata": {},
   "source": [
    "# Split the data into training and test sets"
   ]
  },
  {
   "cell_type": "code",
   "execution_count": 8,
   "metadata": {
    "execution": {
     "iopub.execute_input": "2023-09-07T12:22:41.618708Z",
     "iopub.status.busy": "2023-09-07T12:22:41.618211Z",
     "iopub.status.idle": "2023-09-07T12:22:41.631701Z",
     "shell.execute_reply": "2023-09-07T12:22:41.630274Z",
     "shell.execute_reply.started": "2023-09-07T12:22:41.618662Z"
    }
   },
   "outputs": [],
   "source": [
    "# Split the data into training and test sets\n",
    "X = data.drop('Outcome', axis=1)\n",
    "y = data['Outcome']\n",
    "X_train, X_test, y_train, y_test = train_test_split(X, y, test_size=0.2, random_state=0)"
   ]
  },
  {
   "cell_type": "markdown",
   "metadata": {},
   "source": [
    "# Train a logistic regression model"
   ]
  },
  {
   "cell_type": "code",
   "execution_count": 19,
   "metadata": {
    "execution": {
     "iopub.execute_input": "2023-09-07T12:37:56.159770Z",
     "iopub.status.busy": "2023-09-07T12:37:56.159373Z",
     "iopub.status.idle": "2023-09-07T12:37:56.167233Z",
     "shell.execute_reply": "2023-09-07T12:37:56.165574Z",
     "shell.execute_reply.started": "2023-09-07T12:37:56.159735Z"
    }
   },
   "outputs": [
    {
     "ename": "SyntaxError",
     "evalue": "positional argument follows keyword argument (3378949577.py, line 1)",
     "output_type": "error",
     "traceback": [
      "\u001b[0;36m  Cell \u001b[0;32mIn[19], line 1\u001b[0;36m\u001b[0m\n\u001b[0;31m    model = LogisticRegression(solver='lbfgs',max-iter==1000)\u001b[0m\n\u001b[0m                                                            ^\u001b[0m\n\u001b[0;31mSyntaxError\u001b[0m\u001b[0;31m:\u001b[0m positional argument follows keyword argument\n"
     ]
    }
   ],
   "source": [
    "model = LogisticRegression(solver='lbfgs',max-iter==1000)\n",
    "model.fit(X_train, y_train)"
   ]
  },
  {
   "cell_type": "markdown",
   "metadata": {},
   "source": [
    "# Make predictions on the test set"
   ]
  },
  {
   "cell_type": "code",
   "execution_count": 10,
   "metadata": {
    "execution": {
     "iopub.execute_input": "2023-09-07T12:22:41.696495Z",
     "iopub.status.busy": "2023-09-07T12:22:41.695888Z",
     "iopub.status.idle": "2023-09-07T12:22:41.704137Z",
     "shell.execute_reply": "2023-09-07T12:22:41.703005Z",
     "shell.execute_reply.started": "2023-09-07T12:22:41.696462Z"
    }
   },
   "outputs": [],
   "source": [
    "y_pred = model.predict(X_test)"
   ]
  },
  {
   "cell_type": "markdown",
   "metadata": {},
   "source": [
    "# Evaluate the model"
   ]
  },
  {
   "cell_type": "code",
   "execution_count": 11,
   "metadata": {
    "execution": {
     "iopub.execute_input": "2023-09-07T12:22:41.771644Z",
     "iopub.status.busy": "2023-09-07T12:22:41.771267Z",
     "iopub.status.idle": "2023-09-07T12:22:41.782334Z",
     "shell.execute_reply": "2023-09-07T12:22:41.781036Z",
     "shell.execute_reply.started": "2023-09-07T12:22:41.771613Z"
    }
   },
   "outputs": [
    {
     "name": "stdout",
     "output_type": "stream",
     "text": [
      "Accuracy: 0.82\n",
      "Confusion matrix:\n",
      "[[98  9]\n",
      " [18 29]]\n"
     ]
    }
   ],
   "source": [
    "accuracy = accuracy_score(y_test, y_pred)\n",
    "confusion = confusion_matrix(y_test, y_pred)\n",
    "print(f'Accuracy: {accuracy:.2f}')\n",
    "print(f'Confusion matrix:\\n{confusion}')"
   ]
  },
  {
   "cell_type": "markdown",
   "metadata": {},
   "source": [
    "# Visualize the data"
   ]
  },
  {
   "cell_type": "code",
   "execution_count": 1,
   "metadata": {
    "execution": {
     "iopub.execute_input": "2023-09-07T12:23:08.292572Z",
     "iopub.status.busy": "2023-09-07T12:23:08.292116Z",
     "iopub.status.idle": "2023-09-07T12:23:40.429134Z",
     "shell.execute_reply": "2023-09-07T12:23:40.427952Z",
     "shell.execute_reply.started": "2023-09-07T12:23:08.292537Z"
    },
    "scrolled": true
   },
   "outputs": [
    {
     "ename": "NameError",
     "evalue": "name 'sns' is not defined",
     "output_type": "error",
     "traceback": [
      "\u001b[0;31m---------------------------------------------------------------------------\u001b[0m",
      "\u001b[0;31mNameError\u001b[0m                                 Traceback (most recent call last)",
      "Cell \u001b[0;32mIn[1], line 1\u001b[0m\n\u001b[0;32m----> 1\u001b[0m sns\u001b[38;5;241m.\u001b[39mpairplot(data, hue\u001b[38;5;241m=\u001b[39m\u001b[38;5;124m'\u001b[39m\u001b[38;5;124mOutcome\u001b[39m\u001b[38;5;124m'\u001b[39m)\n\u001b[1;32m      2\u001b[0m plt\u001b[38;5;241m.\u001b[39mshow()\n\u001b[1;32m      4\u001b[0m sns\u001b[38;5;241m.\u001b[39mheatmap(data\u001b[38;5;241m.\u001b[39mcorr(), annot\u001b[38;5;241m=\u001b[39m\u001b[38;5;28;01mTrue\u001b[39;00m)\n",
      "\u001b[0;31mNameError\u001b[0m: name 'sns' is not defined"
     ]
    }
   ],
   "source": [
    "\n",
    "sns.pairplot(data, hue='Outcome')\n",
    "plt.show()\n",
    "\n",
    "sns.heatmap(data.corr(), annot=True)\n",
    "plt.show()"
   ]
  },
  {
   "cell_type": "code",
   "execution_count": null,
   "metadata": {},
   "outputs": [],
   "source": []
  }
 ],
 "metadata": {
  "kernelspec": {
   "display_name": "Python 3 (ipykernel)",
   "language": "python",
   "name": "python3"
  },
  "language_info": {
   "codemirror_mode": {
    "name": "ipython",
    "version": 3
   },
   "file_extension": ".py",
   "mimetype": "text/x-python",
   "name": "python",
   "nbconvert_exporter": "python",
   "pygments_lexer": "ipython3",
   "version": "3.11.3"
  }
 },
 "nbformat": 4,
 "nbformat_minor": 4
}
